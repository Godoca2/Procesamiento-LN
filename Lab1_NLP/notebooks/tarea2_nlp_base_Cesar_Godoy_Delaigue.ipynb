{
 "cells": [
  {
   "cell_type": "markdown",
   "id": "7a56d48a",
   "metadata": {},
   "source": [
    "<center> \n",
    "    <h1>Procesamiento de Lenguaje Natural</h1>\n",
    "    <h1>Tarea 2</h1>\n",
    "</center>\n",
    "\n",
    "<div>\n",
    "<img src=\"https://i.ibb.co/v3CvVz9/udd-short.png\" width=\"150\"/>\n",
    "    \n",
    "</div>\n",
    "\n",
    "#### Magíster en Data Science\n",
    "#### U. del Desarrollo\n",
    "#### Asignatura: Procesamiento de Lenguaje Natural\n",
    "#### Profesor: María Paz Raveau Morales\n",
    "#### Alumno: César Godoy Delaigue\n",
    "#### Fecha de entrega: 20 de Julio de 2025\n",
    "#### Repositorio: https://github.com/Godoca2/Procesamiento-LN.git\n",
    "#### Archivo: tarea2_nlp_base.ipynb\n",
    "\n",
    "\n",
    "-----------------------------------------------------------------"
   ]
  },
  {
   "cell_type": "markdown",
   "id": "08edabc7",
   "metadata": {},
   "source": [
    "Tarea 2 Procesamiento de Lenguaje Natural\n",
    "\n",
    "Magister en Data Science, UDD\n",
    "\n",
    "Instrucciones\n",
    "-\tLa tarea es individual. Debe ser entregada a través de Canvas hasta las 23:59 del día 3 de agosto de 2025.\n",
    "-\tSi utiliza otras librerías o códigos encontrados en internet u otra fuente, ponga la referencia y explique brevemente qué hace el código o librería. \n",
    "-\tDeberá entregar un código comentado (.py o .ipynb) \n",
    "\n",
    "Comparando topic modeling y clustering\n",
    "1. (10 puntos) Los modelos LDA que ejecutamos en clases usaron una matriz DTM de tokens, esto es, palabras solas. Es posible que la interpretación de los tópicos mejore al incorporar bigramas.  Lo primero que harás entonces es ejecutar un modelo LDA incorporando bigramas. Puedes ayudarte de este link https://radimrehurek.com/gensim_3.8.3/auto_examples/tutorials/run_lda.html. (aunque no tienes necesariamente que hacerlo así). Entonces:\n",
    "\n",
    "- i)\tUsaremos un subset de la base de datos “El Chile que Queremos” El subset está disponible en Canvas. \n",
    "- ii)\tAñadir bigramas al corpus. (4 puntos)\n",
    "- iii)\tEjecutar diagnóstico de tópicos y escoger un número de tópicos para el modelo. Justificar. (3 puntos)\n",
    "- iv)\tEjecutar LDA con el número de tópicos escogidos y etiquetar los tópicos, justificando en no más de tres líneas, la etiqueta propuesta. (3 puntos)\n",
    "\n",
    "2. (5 puntos)  Los modelos LDA a menudo se usan para hacer clustering. A diferencia de otros métodos de machine learning, LDA es un método pensado para trabajar con textos. Pero uno perfectamente podría hacer clustering con otras técnicas (como Kmeans) a partir de la misma matriz DTM que alimenta un modelo LDA. Se le pide, entonces, que pruebe con Kmeans sobre la matriz DTM y compare los resultados con LDA. ¿Es el número óptimo de cluster el mismo que el número óptimo de tópicos? ¿Qué partición hace más sentido? \n",
    "\n",
    "\n",
    "-------------------------------------------------------------------------------------------------\n"
   ]
  },
  {
   "cell_type": "markdown",
   "id": "3c4e5dda",
   "metadata": {},
   "source": [
    "## 1. Cargar y explorar la base de datos “El Chile que Queremos”\n",
    "\n",
    "Objetivo: Revisar qué columnas tienes (probablemente concepto, fundamento, region, etc.) y filtrar solo los registros relevantes."
   ]
  }
 ],
 "metadata": {
  "kernelspec": {
   "display_name": "Procesamiento_NPL",
   "language": "python",
   "name": "python3"
  },
  "language_info": {
   "codemirror_mode": {
    "name": "ipython",
    "version": 3
   },
   "file_extension": ".py",
   "mimetype": "text/x-python",
   "name": "python",
   "nbconvert_exporter": "python",
   "pygments_lexer": "ipython3",
   "version": "3.11.4"
  }
 },
 "nbformat": 4,
 "nbformat_minor": 5
}
